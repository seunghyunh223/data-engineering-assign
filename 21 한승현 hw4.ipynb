{
 "cells": [
  {
   "cell_type": "code",
   "execution_count": 33,
   "id": "a1362d74",
   "metadata": {},
   "outputs": [
    {
     "data": {
      "text/plain": [
       "array(['쌍', '쇠', '복', '돌', '팽', '육', '쌍', '개', '칠', '갑', '삼', '방'],\n",
       "      dtype='<U1')"
      ]
     },
     "execution_count": 33,
     "metadata": {},
     "output_type": "execute_result"
    }
   ],
   "source": [
    "month = np.array(['쌍', '쇠', '복', '돌', '팽', '육', '쌍', '개', '칠', '갑', '삼', '방'])\n",
    "month"
   ]
  },
  {
   "cell_type": "code",
   "execution_count": 34,
   "id": "4105cd5e",
   "metadata": {},
   "outputs": [
    {
     "data": {
      "text/plain": [
       "array(['봉', '구', '욕', '포', '똥', '삼', '식', '석', '놈', '님', '년', '돌', '단',\n",
       "       '득', '방', '질', '장', '걸', '래', '룡', '동', '순', '자', '박', '창', '언',\n",
       "       '것', '포', '만', '단', '국'], dtype='<U1')"
      ]
     },
     "execution_count": 34,
     "metadata": {},
     "output_type": "execute_result"
    }
   ],
   "source": [
    "day = np.array(['봉', '구', '욕', '포', '똥', '삼', '식', '석', '놈', '님', '년', '돌', '단', '득', '방', '질', '장', '걸', '래', '룡', '동', '순', '자', '박', '창', '언', '것', '포', '만', '단', '국'])\n",
    "day"
   ]
  },
  {
   "cell_type": "code",
   "execution_count": 86,
   "id": "e599c441",
   "metadata": {},
   "outputs": [],
   "source": [
    "def get_my_chosun_name(name:str,i:int,j:int):\n",
    "    name_A=(name+month[i-1]+day[j-1])\n",
    "    print(f\"저의 이름은 {name_A}입니다.\")"
   ]
  },
  {
   "cell_type": "code",
   "execution_count": 87,
   "id": "e3d5ed9a",
   "metadata": {},
   "outputs": [
    {
     "name": "stdout",
     "output_type": "stream",
     "text": [
      "저의 이름은 한방룡입니다.\n"
     ]
    }
   ],
   "source": [
    "get_my_chosun_name(\"한\",12,20)"
   ]
  },
  {
   "cell_type": "code",
   "execution_count": null,
   "id": "27c99011",
   "metadata": {},
   "outputs": [],
   "source": []
  }
 ],
 "metadata": {
  "kernelspec": {
   "display_name": "Python 3 (ipykernel)",
   "language": "python",
   "name": "python3"
  },
  "language_info": {
   "codemirror_mode": {
    "name": "ipython",
    "version": 3
   },
   "file_extension": ".py",
   "mimetype": "text/x-python",
   "name": "python",
   "nbconvert_exporter": "python",
   "pygments_lexer": "ipython3",
   "version": "3.11.4"
  }
 },
 "nbformat": 4,
 "nbformat_minor": 5
}
